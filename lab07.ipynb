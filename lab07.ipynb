{
 "cells": [
  {
   "cell_type": "code",
   "execution_count": 1,
   "metadata": {},
   "outputs": [],
   "source": [
    "%%capture\n",
    "import math\n",
    "import numpy as np\n",
    "import pandas as pd\n",
    "import nltk \n",
    "from nltk import RegexpTokenizer as rpt\n",
    "from nltk.corpus import stopwords as sw\n",
    "\n",
    "nltk.download('punkt')\n",
    "nltk.download('stopwords')\n",
    "stopwords = sw.words('portuguese')\n",
    "\n",
    "data_url=\"https://raw.githubusercontent.com/liraop/recinfo_lab2/master/data/results.csv\"\n",
    "data = pd.read_csv(data_url).replace(np.nan, '', regex=True)\n",
    "documents = data.text.count()\n",
    "N = documents \n",
    "\n",
    "def parse(text):\n",
    "    words = []\n",
    "    word_pattern = rpt(r'\\w+')\n",
    "    year_pattern = rpt(r'\\d{4}')\n",
    "    \n",
    "    patterns = [word_pattern, year_pattern]\n",
    "    \n",
    "    for pattern in patterns:\n",
    "        tokens = []\n",
    "        for token in pattern.tokenize(text):\n",
    "            if token not in stopwords and len(token) > 3:\n",
    "                tokens.append(token)\n",
    "        words.extend(tokens)\n",
    "    return words\n",
    "\n",
    "\n",
    "def get_idf(index):\n",
    "    for ngram in index:\n",
    "        k = len(index[ngram])\n",
    "        m = documents + 1\n",
    "        index[ngram]['idf'] = math.log(m/k)\n",
    "         \n",
    "\n",
    "def build_index(dataset):\n",
    "    document_index = 0\n",
    "    index = {}\n",
    "    \n",
    "    for entry in dataset.text:\n",
    "        document_index = document_index + 1\n",
    "            \n",
    "        for ngram in parse(entry):\n",
    "                if ngram in index: #is ngram already on index?\n",
    "                    if document_index in index[ngram]: # is it in the same document?\n",
    "                        index[ngram][document_index] = index[ngram][document_index] + 1                        \n",
    "                    else: # nope\n",
    "                        index[ngram][document_index] = 1 \n",
    "                else: # no, sir\n",
    "                    index[ngram] = {document_index: 1}\n",
    "    get_idf(index)           \n",
    "    \n",
    "    return index\n",
    "  \n",
    "def get_top10rank(doc_score):\n",
    "   \n",
    "    df_tmp = pd.DataFrame(doc_score.items(), columns=[\"document\", \"score\"])\n",
    "    df_tmp['r']= df_tmp.score.rank(ascending=False, method=\"first\")\n",
    "    df_tmp.sort_values(\"r\", inplace = True)\n",
    "    df_tmp = df_tmp[:10]\n",
    "        \n",
    "    return df_tmp\n",
    "    \n",
    "index = build_index(data)\n",
    "\n",
    "def bin_query_vector(index, query):\n",
    "    query_vector = []\n",
    "    \n",
    "    for word in index:\n",
    "        if word in query.split():\n",
    "            query_vector.append(1)\n",
    "        else:\n",
    "            query_vector.append(0)\n",
    "            \n",
    "    return query_vector\n",
    "\n",
    "def bin_document_vector(index):\n",
    "    document_vector = []\n",
    "    \n",
    "    for doc_id in range(1,documents+1):\n",
    "        doc_vec = []\n",
    "        for ngram in index:\n",
    "            if doc_id in index[ngram].keys():\n",
    "                doc_vec.append(1)\n",
    "            else:\n",
    "                doc_vec.append(0)\n",
    "                \n",
    "        document_vector.append(doc_vec)\n",
    "    \n",
    "    return document_vector\n",
    "                \n",
    "\n",
    "def f_bin(query_vector, doc_vector):\n",
    "    rec = {}\n",
    "\n",
    "    for doc_id in range(len(doc_vector)):\n",
    "        sim = 0\n",
    "        vector = doc_vector[doc_id]\n",
    "        for i in range(len(vector)):\n",
    "            sim += (query_vector[i] * vector[i])\n",
    "        rec[doc_id+1] = sim\n",
    "    \n",
    "    return rec\n",
    "\n",
    "def binary_vsm(index, query):\n",
    "    query_vector = bin_query_vector(index, query)   \n",
    "    doc_vector = bin_document_vector(index)\n",
    "    \n",
    "    return f_bin(query_vector, doc_vector)\n",
    "\n",
    "def tf_document_vector(index):\n",
    "    document_vector = []\n",
    "    \n",
    "    for doc_id in range(1,documents+1):\n",
    "        doc_vec = []\n",
    "        for ngram in index:\n",
    "            if doc_id in index[ngram].keys():\n",
    "                y = index[ngram][doc_id]\n",
    "                doc_vec.append(y)\n",
    "            else:\n",
    "                doc_vec.append(0)\n",
    "                \n",
    "        document_vector.append(doc_vec)\n",
    "        \n",
    "    return document_vector\n",
    "\n",
    "def tf_query_vector(index, query):\n",
    "    query_vector = []\n",
    "    \n",
    "    for ngram in index:\n",
    "        w = 0\n",
    "        for term in query.split():\n",
    "            if ngram == term:\n",
    "                w += 1\n",
    "        query_vector.append(w)\n",
    "        \n",
    "    return query_vector\n",
    "\n",
    "def f_tf(query_vector, doc_vector):\n",
    "    rec = {}\n",
    "    for doc_id in range(len(doc_vector)):\n",
    "        sim = 0\n",
    "        vector = doc_vector[doc_id]\n",
    "        for i in range(len(vector)):\n",
    "            sim += (query_vector[i] * vector[i])\n",
    "        rec[doc_id+1] = sim\n",
    "    return rec\n",
    "\n",
    "def tf_vsm(index, query):\n",
    "    query_vector = tf_query_vector(index, query)   \n",
    "    doc_vector = tf_document_vector(index)\n",
    "    \n",
    "    return f_tf(query_vector, doc_vector)\n",
    "\n",
    "def tfidf_document_vector(index):\n",
    "    document_vector = []\n",
    "    \n",
    "    for doc_id in range(1,documents+1):\n",
    "        doc_vec = []\n",
    "        for ngram in index:\n",
    "            if doc_id in index[ngram].keys():\n",
    "                y = index[ngram][doc_id] * index[ngram]['idf']\n",
    "                doc_vec.append(y)\n",
    "            else:\n",
    "                doc_vec.append(0)\n",
    "                \n",
    "        document_vector.append(doc_vec)\n",
    "        \n",
    "    return document_vector\n",
    "\n",
    "\n",
    "def tfidf_vsm(index, query):\n",
    "    query_vector = tf_query_vector(index, query)   \n",
    "    doc_vector = tfidf_document_vector(index)\n",
    "    \n",
    "    return f_tf(query_vector, doc_vector)\n",
    "\n",
    "\n",
    "def f_bm25(query_vector, doc_vector, k):\n",
    "    rec = {}\n",
    "    for doc_id in range(len(doc_vector)):\n",
    "        sim = 0\n",
    "        vector = doc_vector[doc_id]\n",
    "        for i in range(len(vector)):\n",
    "            if vector[i] != 0:\n",
    "                y = (k+1) * query_vector[i]\n",
    "                dom = (query_vector[i] * y)/(query_vector[i]+k)\n",
    "                sim += (dom * math.log10((documents + 1)/vector[i]))\n",
    "        rec[doc_id+1] = sim\n",
    "    return rec\n",
    "    \n",
    "\n",
    "def bm25_vsm(index, query, k):\n",
    "    query_vector = tf_query_vector(index, query)   \n",
    "    doc_vector = tf_document_vector(index)\n",
    "    \n",
    "    return f_bm25(query_vector, doc_vector, k)\n"
   ]
  },
  {
   "cell_type": "markdown",
   "metadata": {},
   "source": [
    "### Q1: Escolha um documento dentre aqueles da base do aluno Bernardi e crie uma consulta que você acha que tem boas chances de recuperar este documento. Em seguida, avalie os resultados de tal consulta usando a métrica de avaliação Reciprocal Rank ( 10 pts)"
   ]
  },
  {
   "cell_type": "code",
   "execution_count": 2,
   "metadata": {},
   "outputs": [
    {
     "name": "stderr",
     "output_type": "stream",
     "text": [
      "UsageError: Line magic function `%%capture` not found.\n"
     ]
    }
   ],
   "source": [
    "chosen_one = 13\n",
    "doc_url = \"https://brasil.elpais.com/brasil/2019/03/15/cultura/1552681746_926411.html\"\n",
    "query = \"Gabo colombiano solidão\"\n",
    "\n",
    "def reciprocal_rank(rank, selected_doc):\n",
    "    position = 0\n",
    "    for index, row in rank.iterrows():\n",
    "        position += 1\n",
    "        if row[\"document\"] == chosen_one:\n",
    "            return 1.0/position\n",
    "     \n",
    "rank_binario = get_top10rank(binary_vsm(index, query))\n",
    "print(rank_binario.to_string(index=False))\n",
    "print(\"Reciprocal rank:\", reciprocal_rank(rank_binario, chosen_one))"
   ]
  },
  {
   "cell_type": "markdown",
   "metadata": {},
   "source": [
    "#### Vemos acima que o reciprocal rank retorna o documento com maior score retornado pelo vsm. Está correto pois o documento, além de ser o escolhido, tem o maior numero de termos da query nele."
   ]
  },
  {
   "cell_type": "code",
   "execution_count": null,
   "metadata": {},
   "outputs": [],
   "source": [
    "rank_tf = get_top10rank(tf_vsm(index, query))\n",
    "print(rank_tf.to_string(index=False))\n",
    "print(\"Reciprocal rank:\", reciprocal_rank(rank_tf, chosen_one))"
   ]
  },
  {
   "cell_type": "code",
   "execution_count": null,
   "metadata": {},
   "outputs": [],
   "source": [
    "rank_tfidf = get_top10rank(tfidf_vsm(index, query))\n",
    "print(rank_tfidf.to_string(index=False))\n",
    "print(\"Reciprocal rank:\", reciprocal_rank(rank_tfidf, chosen_one))"
   ]
  },
  {
   "cell_type": "code",
   "execution_count": null,
   "metadata": {},
   "outputs": [],
   "source": [
    "rank_bm25 = get_top10rank(bm25_vsm(index, query, 10))\n",
    "print(rank_bm25.to_string(index=False))\n",
    "print(\"Reciprocal rank:\", reciprocal_rank(rank_bm25, chosen_one))"
   ]
  },
  {
   "cell_type": "markdown",
   "metadata": {},
   "source": [
    "#### O mesmo ocorre com os outros modelos. "
   ]
  },
  {
   "cell_type": "markdown",
   "metadata": {},
   "source": [
    "### Q2: A partir do gabarito fornecido em OBS1, calcule o MAP para cada algoritmo abaixo e aponte qual obteve o melhor resultado. Para os cálculos do MAP, considere que um documento é relevante para uma dada consulta se este documento estiver entre os documentos do gabarito para essa consulta, senão ele deve ser considerado irrelevante. (10 pts)"
   ]
  },
  {
   "cell_type": "code",
   "execution_count": null,
   "metadata": {},
   "outputs": [],
   "source": [
    "query = \"golpe militar\"\n",
    "### id dos documentos no gabarito da query\n",
    "gabarito = [1, 120, 208]\n",
    "\n",
    "def MAP(rank, relevant_docs):\n",
    "    relevant_documents = 0\n",
    "    position = 0\n",
    "    tmp_rank = 0.0\n",
    "    for index, row in rank.iterrows():\n",
    "        position += 1\n",
    "        if row[\"document\"] in relevant_docs:\n",
    "                relevant_documents += 1\n",
    "                tmp_rank += 1.0/position\n",
    "            \n",
    "    return tmp_rank/relevant_documents\n",
    "\n",
    "rank_binario = get_top10rank(binary_vsm(index, query))\n",
    "print(rank_binario.to_string(index=False))\n",
    "print(\"MAP metric:\", MAP(rank_binario, gabarito))"
   ]
  },
  {
   "cell_type": "code",
   "execution_count": null,
   "metadata": {},
   "outputs": [],
   "source": [
    "rank_tf = get_top10rank(tf_vsm(index, query))\n",
    "print(rank_tf.to_string(index=False))\n",
    "print(\"MAP metric:\", MAP(rank_tf, gabarito))"
   ]
  },
  {
   "cell_type": "code",
   "execution_count": null,
   "metadata": {},
   "outputs": [],
   "source": [
    "rank_tfidf = get_top10rank(tfidf_vsm(index, query))\n",
    "print(rank_tfidf.to_string(index=False))\n",
    "print(\"MAP metric:\", MAP(rank_tfidf, gabarito))"
   ]
  },
  {
   "cell_type": "code",
   "execution_count": null,
   "metadata": {},
   "outputs": [],
   "source": [
    "rank_bm25 = get_top10rank(bm25_vsm(index, query, 10))\n",
    "print(rank_bm25.to_string(index=False))\n",
    "print(\"MAP metric:\", MAP(rank_bm25, gabarito))"
   ]
  },
  {
   "cell_type": "markdown",
   "metadata": {},
   "source": [
    "### Q3: Repita Q2 usando a avaliação multi-nível DCG. Utilize o campo \"level\" do gabarito para o cálculo do DCG e do idealDCG. (10 pts)"
   ]
  },
  {
   "cell_type": "code",
   "execution_count": null,
   "metadata": {},
   "outputs": [],
   "source": [
    "query = \"golpe militar\"\n",
    "### id dos documentos no gabarito da query\n",
    "gabarito = {1:6, 120:9, 208:5}\n",
    "\n",
    "def DCG(rank, relevant_docs):\n",
    "    relevant_documents = 0\n",
    "    position = 0\n",
    "    dcg_rank = []\n",
    "    for index, row in rank.iterrows():\n",
    "        position += 1\n",
    "        tmp_rank = 0.0\n",
    "        for d_id, rel in gabarito.items():\n",
    "            if d_id == row[\"document\"]:\n",
    "                if relevant_documents == 0:\n",
    "                    tmp_rank = rel\n",
    "                else:\n",
    "                    tmp_rank += (rel/math.log10(position))\n",
    "                relevant_documents += 1\n",
    "        dcg_rank.append(tmp_rank)\n",
    "                    \n",
    "            \n",
    "    return dcg_rank"
   ]
  },
  {
   "cell_type": "code",
   "execution_count": null,
   "metadata": {},
   "outputs": [],
   "source": [
    "rank_binario = get_top10rank(binary_vsm(index, query))\n",
    "rank_binario[\"DCG\"] = DCG(rank_binario, gabarito)\n",
    "print(rank_binario.to_string(index=False))"
   ]
  },
  {
   "cell_type": "code",
   "execution_count": null,
   "metadata": {},
   "outputs": [],
   "source": [
    "rank_tf = get_top10rank(tf_vsm(index, query))\n",
    "rank_tf[\"DCG\"] = DCG(rank_tf, gabarito)\n",
    "print(rank_tf.to_string(index=False))"
   ]
  },
  {
   "cell_type": "code",
   "execution_count": null,
   "metadata": {},
   "outputs": [],
   "source": [
    "rank_tfidf = get_top10rank(tfidf_vsm(index, query))\n",
    "rank_tfidf[\"DCG\"] = DCG(rank_tfidf, gabarito)\n",
    "print(rank_tfidf.to_string(index=False))"
   ]
  },
  {
   "cell_type": "code",
   "execution_count": null,
   "metadata": {},
   "outputs": [],
   "source": [
    "rank_bm25 = get_top10rank(bm25_vsm(index, query, 10))\n",
    "rank_bm25[\"DCG\"] = DCG(rank_bm25, gabarito)\n",
    "print(rank_bm25.to_string(index=False))"
   ]
  },
  {
   "cell_type": "code",
   "execution_count": null,
   "metadata": {},
   "outputs": [],
   "source": []
  },
  {
   "cell_type": "code",
   "execution_count": null,
   "metadata": {},
   "outputs": [],
   "source": []
  },
  {
   "cell_type": "code",
   "execution_count": null,
   "metadata": {},
   "outputs": [],
   "source": []
  }
 ],
 "metadata": {
  "kernelspec": {
   "display_name": "Python 3",
   "language": "python",
   "name": "python3"
  },
  "language_info": {
   "codemirror_mode": {
    "name": "ipython",
    "version": 3
   },
   "file_extension": ".py",
   "mimetype": "text/x-python",
   "name": "python",
   "nbconvert_exporter": "python",
   "pygments_lexer": "ipython3",
   "version": "3.7.3"
  }
 },
 "nbformat": 4,
 "nbformat_minor": 2
}
